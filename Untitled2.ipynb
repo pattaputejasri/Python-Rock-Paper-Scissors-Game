{
 "cells": [
  {
   "cell_type": "markdown",
   "id": "3417d969",
   "metadata": {},
   "source": [
    "# Importing Libraries"
   ]
  },
  {
   "cell_type": "code",
   "execution_count": null,
   "id": "94241ea6",
   "metadata": {},
   "outputs": [],
   "source": [
    "from tkinter import *\n",
    "import random"
   ]
  },
  {
   "cell_type": "markdown",
   "id": "64749937",
   "metadata": {},
   "source": [
    "#  Initialize Window"
   ]
  },
  {
   "cell_type": "code",
   "execution_count": null,
   "id": "ab55ff65",
   "metadata": {},
   "outputs": [],
   "source": [
    "root = Tk()\n",
    "root.geometry('400x400')\n",
    "root.resizable(0,0)\n",
    "root.title('DataFlair-Rock,Paper,Scissors')\n",
    "root.config(bg = 'seashell3')"
   ]
  },
  {
   "cell_type": "markdown",
   "id": "002a71e9",
   "metadata": {},
   "source": [
    "# For User Choice "
   ]
  },
  {
   "cell_type": "code",
   "execution_count": null,
   "id": "8731f7b3",
   "metadata": {},
   "outputs": [],
   "source": [
    "user_take = StringVar()\n",
    "Label(root, text = 'choose any one: rock, paper ,scissors' , font='arial 15 bold', bg = 'seashell2').place(x = 20,y=70)\n",
    "Entry(root, font = 'arial 15', textvariable = user_take , bg = 'antiquewhite2').place(x=90 , y = 130)\n"
   ]
  },
  {
   "cell_type": "markdown",
   "id": "7602e11a",
   "metadata": {},
   "source": [
    "#  For Computer Choice"
   ]
  },
  {
   "cell_type": "code",
   "execution_count": 4,
   "id": "8cdaeb7f",
   "metadata": {},
   "outputs": [],
   "source": [
    "comp_pick = random.randint(1,3)\n",
    "if comp_pick == 1:\n",
    "    comp_pick = 'rock'\n",
    "elif comp_pick ==2:\n",
    "    comp_pick = 'paper'\n",
    "else:\n",
    "    comp_pick = 'scissors'"
   ]
  },
  {
   "cell_type": "markdown",
   "id": "316c6977",
   "metadata": {},
   "source": [
    "#  Function to Start Game"
   ]
  },
  {
   "cell_type": "code",
   "execution_count": 5,
   "id": "6c180d3b",
   "metadata": {},
   "outputs": [],
   "source": [
    "Result = StringVar()\n",
    "def play():\n",
    "    user_pick = user_take.get()\n",
    "    if user_pick == comp_pick:\n",
    "        Result.set('tie,you both select same')\n",
    "    elif user_pick == 'rock' and comp_pick == 'paper':\n",
    "        Result.set('you loose,computer select paper')\n",
    "    elif user_pick == 'rock' and comp_pick == 'scissors':\n",
    "        Result.set('you win,computer select scissors')\n",
    "    elif user_pick == 'paper' and comp_pick == 'scissors':\n",
    "        Result.set('you loose,computer select scissors')\n",
    "    elif user_pick == 'paper' and comp_pick == 'rock':\n",
    "        Result.set('you win,computer select rock')\n",
    "    elif user_pick == 'scissors' and comp_pick == 'rock':\n",
    "        Result.set('you loose,computer select rock')\n",
    "    elif user_pick == 'scissors' and comp_pick == 'paper':\n",
    "        Result.set('you win ,computer select paper')\n",
    "    else:\n",
    "        Result.set('invalid: choose any one -- rock, paper, scissors')"
   ]
  },
  {
   "cell_type": "markdown",
   "id": "154208f6",
   "metadata": {},
   "source": [
    "# Function to Reset"
   ]
  },
  {
   "cell_type": "code",
   "execution_count": 6,
   "id": "289d6511",
   "metadata": {},
   "outputs": [],
   "source": [
    "def Reset():\n",
    "    Result.set(\"\") \n",
    "    user_take.set(\"\")"
   ]
  },
  {
   "cell_type": "markdown",
   "id": "a2764027",
   "metadata": {},
   "source": [
    "# Function to Exit"
   ]
  },
  {
   "cell_type": "code",
   "execution_count": 7,
   "id": "9949eed5",
   "metadata": {},
   "outputs": [],
   "source": [
    "def Exit():\n",
    "    root.destroy()"
   ]
  },
  {
   "cell_type": "markdown",
   "id": "0ba52e5c",
   "metadata": {},
   "source": [
    "# Define Buttons"
   ]
  },
  {
   "cell_type": "code",
   "execution_count": null,
   "id": "168661c8",
   "metadata": {},
   "outputs": [],
   "source": [
    "Entry(root, font = 'arial 10 bold', textvariable = Result, bg ='antiquewhite2',width = 50,).place(x=25, y = 250)\n",
    "Button(root, font = 'arial 13 bold', text = 'PLAY'  ,padx =5,bg ='seashell4' ,command = play).place(x=150,y=190)\n",
    "Button(root, font = 'arial 13 bold', text = 'RESET'  ,padx =5,bg ='seashell4' ,command = Reset).place(x=70,y=310)\n",
    "Button(root, font = 'arial 13 bold', text = 'EXIT'  ,padx =5,bg ='seashell4' ,command = Exit).place(x=230,y=310)\n",
    "root.mainloop()"
   ]
  },
  {
   "cell_type": "code",
   "execution_count": null,
   "id": "ea816f35",
   "metadata": {},
   "outputs": [],
   "source": []
  }
 ],
 "metadata": {
  "kernelspec": {
   "display_name": "Python 3",
   "language": "python",
   "name": "python3"
  },
  "language_info": {
   "codemirror_mode": {
    "name": "ipython",
    "version": 3
   },
   "file_extension": ".py",
   "mimetype": "text/x-python",
   "name": "python",
   "nbconvert_exporter": "python",
   "pygments_lexer": "ipython3",
   "version": "3.8.8"
  }
 },
 "nbformat": 4,
 "nbformat_minor": 5
}
